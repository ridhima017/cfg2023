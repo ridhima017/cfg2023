{
 "cells": [
  {
   "cell_type": "code",
   "execution_count": 3,
   "metadata": {},
   "outputs": [],
   "source": [
    "import numpy as np"
   ]
  },
  {
   "cell_type": "code",
   "execution_count": 4,
   "metadata": {},
   "outputs": [],
   "source": [
    "from keras.models import Sequential\n",
    "from keras.layers import Conv2D, MaxPooling2D, Flatten, Dense\n",
    "from keras.preprocessing.image import ImageDataGenerator"
   ]
  },
  {
   "cell_type": "code",
   "execution_count": 8,
   "metadata": {},
   "outputs": [],
   "source": [
    "train_path = r\"C:\\Users\\dell\\Downloads\\train\"\n",
    "test_path = r\"C:\\Users\\dell\\Downloads\\test\"\n"
   ]
  },
  {
   "cell_type": "code",
   "execution_count": 6,
   "metadata": {},
   "outputs": [],
   "source": [
    "img_size = 64\n",
    "batch_size = 16\n",
    "epochs = 25"
   ]
  },
  {
   "cell_type": "code",
   "execution_count": 9,
   "metadata": {},
   "outputs": [
    {
     "name": "stdout",
     "output_type": "stream",
     "text": [
      "Found 21 images belonging to 2 classes.\n"
     ]
    }
   ],
   "source": [
    "train_datagen = ImageDataGenerator(rescale=1./255, \n",
    "shear_range=0.2,zoom_range=0.2,horizontal_flip=True)\n",
    "train_generator = train_datagen.flow_from_directory(\n",
    " train_path,\n",
    " target_size=(img_size, img_size),\n",
    " batch_size=batch_size,\n",
    " class_mode='binary')"
   ]
  },
  {
   "cell_type": "code",
   "execution_count": 10,
   "metadata": {},
   "outputs": [
    {
     "name": "stdout",
     "output_type": "stream",
     "text": [
      "Found 6 images belonging to 2 classes.\n"
     ]
    }
   ],
   "source": [
    "test_datagen = ImageDataGenerator(rescale=1./255)\n",
    "test_generator = test_datagen.flow_from_directory(\n",
    " test_path,\n",
    " target_size=(img_size, img_size),\n",
    " batch_size=batch_size,\n",
    " class_mode='binary')"
   ]
  },
  {
   "cell_type": "code",
   "execution_count": 11,
   "metadata": {},
   "outputs": [],
   "source": [
    "model = Sequential()\n",
    "model.add(Conv2D(32, (3, 3), activation='relu', input_shape=(img_size, \n",
    "img_size, 3)))\n",
    "model.add(MaxPooling2D((2, 2)))\n",
    "model.add(Conv2D(64, (3, 3), activation='relu'))\n",
    "model.add(MaxPooling2D((2, 2)))\n",
    "model.add(Conv2D(128, (3, 3), activation='relu'))\n",
    "model.add(MaxPooling2D((2, 2)))\n",
    "model.add(Flatten())\n",
    "model.add(Dense(128, activation='relu'))\n",
    "model.add(Dense(1, activation='sigmoid'))\n"
   ]
  },
  {
   "cell_type": "code",
   "execution_count": 12,
   "metadata": {},
   "outputs": [],
   "source": [
    "model.compile(optimizer='adam', loss='binary_crossentropy', \n",
    "metrics=['accuracy'])"
   ]
  },
  {
   "cell_type": "code",
   "execution_count": 13,
   "metadata": {},
   "outputs": [
    {
     "name": "stdout",
     "output_type": "stream",
     "text": [
      "Epoch 1/25\n",
      "1/1 [==============================] - 3s 3s/step - loss: 0.6886 - accuracy: 0.4000\n",
      "Epoch 2/25\n",
      "1/1 [==============================] - 0s 312ms/step - loss: 0.9665 - accuracy: 0.4375\n",
      "Epoch 3/25\n",
      "1/1 [==============================] - 0s 193ms/step - loss: 0.6643 - accuracy: 0.6000\n",
      "Epoch 4/25\n",
      "1/1 [==============================] - 0s 239ms/step - loss: 0.6786 - accuracy: 0.8750\n",
      "Epoch 5/25\n",
      "1/1 [==============================] - 0s 241ms/step - loss: 0.6829 - accuracy: 0.6250\n",
      "Epoch 6/25\n",
      "1/1 [==============================] - 0s 351ms/step - loss: 0.6723 - accuracy: 0.7500\n",
      "Epoch 7/25\n",
      "1/1 [==============================] - 0s 175ms/step - loss: 0.6563 - accuracy: 1.0000\n",
      "Epoch 8/25\n",
      "1/1 [==============================] - 0s 163ms/step - loss: 0.6607 - accuracy: 0.8000\n",
      "Epoch 9/25\n",
      "1/1 [==============================] - 0s 182ms/step - loss: 0.5832 - accuracy: 0.8000\n",
      "Epoch 10/25\n",
      "1/1 [==============================] - 0s 181ms/step - loss: 0.6040 - accuracy: 0.6000\n",
      "Epoch 11/25\n",
      "1/1 [==============================] - 0s 218ms/step - loss: 0.7064 - accuracy: 0.3750\n",
      "Epoch 12/25\n",
      "1/1 [==============================] - 0s 285ms/step - loss: 0.6153 - accuracy: 0.6250\n",
      "Epoch 13/25\n",
      "1/1 [==============================] - 0s 260ms/step - loss: 0.6122 - accuracy: 0.6250\n",
      "Epoch 14/25\n",
      "1/1 [==============================] - 0s 171ms/step - loss: 0.6483 - accuracy: 0.6000\n",
      "Epoch 15/25\n",
      "1/1 [==============================] - 0s 234ms/step - loss: 0.5352 - accuracy: 0.8750\n",
      "Epoch 16/25\n",
      "1/1 [==============================] - 0s 266ms/step - loss: 0.4874 - accuracy: 0.7500\n",
      "Epoch 17/25\n",
      "1/1 [==============================] - 0s 188ms/step - loss: 0.4220 - accuracy: 0.8000\n",
      "Epoch 18/25\n",
      "1/1 [==============================] - 0s 258ms/step - loss: 0.5277 - accuracy: 0.6250\n",
      "Epoch 19/25\n",
      "1/1 [==============================] - 0s 214ms/step - loss: 0.3533 - accuracy: 1.0000\n",
      "Epoch 20/25\n",
      "1/1 [==============================] - 0s 232ms/step - loss: 0.5085 - accuracy: 0.8125\n",
      "Epoch 21/25\n",
      "1/1 [==============================] - 0s 219ms/step - loss: 0.3770 - accuracy: 0.8125\n",
      "Epoch 22/25\n",
      "1/1 [==============================] - 0s 228ms/step - loss: 0.3786 - accuracy: 0.8125\n",
      "Epoch 23/25\n",
      "1/1 [==============================] - 0s 200ms/step - loss: 0.4273 - accuracy: 0.7500\n",
      "Epoch 24/25\n",
      "1/1 [==============================] - 0s 214ms/step - loss: 0.2325 - accuracy: 0.9375\n",
      "Epoch 25/25\n",
      "1/1 [==============================] - 0s 209ms/step - loss: 0.3127 - accuracy: 0.8750\n"
     ]
    },
    {
     "data": {
      "text/plain": [
       "<keras.callbacks.History at 0x24294614890>"
      ]
     },
     "execution_count": 13,
     "metadata": {},
     "output_type": "execute_result"
    }
   ],
   "source": [
    "model.fit(\n",
    " train_generator,\n",
    " steps_per_epoch=train_generator.n // batch_size,\n",
    " epochs=epochs,\n",
    " validation_data=test_generator,\n",
    " validation_steps=test_generator.n // batch_size)\n"
   ]
  },
  {
   "cell_type": "code",
   "execution_count": 14,
   "metadata": {},
   "outputs": [
    {
     "name": "stdout",
     "output_type": "stream",
     "text": [
      "1/1 [==============================] - 1s 552ms/step - loss: 0.5995 - accuracy: 0.6667\n",
      "\n",
      "\n",
      "Test accuracy: 0.6666666865348816\n",
      "Test loss: 0.5995163321495056\n"
     ]
    }
   ],
   "source": [
    "test_steps = np.ceil(test_generator.n / batch_size).astype(int)\n",
    "test_loss, test_acc = model.evaluate(test_generator, steps=test_steps)\n",
    "print(\"\\n\\nTest accuracy:\", test_acc)\n",
    "print(\"Test loss:\",test_loss)\n"
   ]
  },
  {
   "cell_type": "code",
   "execution_count": 15,
   "metadata": {},
   "outputs": [],
   "source": [
    "from PIL import Image,ImageOps\n",
    "img_path=r\"C:\\Users\\dell\\Downloads\\test\\images.jpeg\""
   ]
  },
  {
   "cell_type": "code",
   "execution_count": 16,
   "metadata": {},
   "outputs": [
    {
     "name": "stderr",
     "output_type": "stream",
     "text": [
      "C:\\Users\\dell\\AppData\\Local\\Temp\\ipykernel_19032\\2815431926.py:2: DeprecationWarning: ANTIALIAS is deprecated and will be removed in Pillow 10 (2023-07-01). Use LANCZOS or Resampling.LANCZOS instead.\n",
      "  img=ImageOps.fit(img,(64,64),Image.ANTIALIAS)\n"
     ]
    }
   ],
   "source": [
    "img=Image.open(img_path)\n",
    "img=ImageOps.fit(img,(64,64),Image.ANTIALIAS)"
   ]
  },
  {
   "cell_type": "code",
   "execution_count": 17,
   "metadata": {},
   "outputs": [],
   "source": [
    "if img.size[0] < 64 or img.size[1] < 64:\n",
    " padding = (64 - img.size[0], 64 - img.size[1])\n",
    " img = ImageOps.expand(img, padding)\n",
    "if img.size[0] > 64 or img.size[1] > 64:\n",
    " padding = (-(64 - img.size[0]),-( 64 - img.size[1]))\n",
    " img = ImageOps.expand(img, padding)\n",
    "x=np.array(img)\n"
   ]
  },
  {
   "cell_type": "code",
   "execution_count": 18,
   "metadata": {},
   "outputs": [
    {
     "name": "stdout",
     "output_type": "stream",
     "text": [
      "1/1 [==============================] - 0s 222ms/step\n",
      "[[0.9764782]]\n"
     ]
    }
   ],
   "source": [
    "x=x/255.0\n",
    "x=x.reshape(1,64,64,3)\n",
    "prediction=model.predict(x)\n",
    "print(prediction)\n"
   ]
  },
  {
   "cell_type": "code",
   "execution_count": 19,
   "metadata": {},
   "outputs": [],
   "source": [
    "import pickle\n",
    "pickle.dump(model,open('model.pkl','wb'))"
   ]
  },
  {
   "cell_type": "code",
   "execution_count": 84,
   "metadata": {},
   "outputs": [
    {
     "name": "stdout",
     "output_type": "stream",
     "text": [
      "Mango\n",
      "If the results are not accurate, try uploading a clearer image\n"
     ]
    }
   ],
   "source": [
    "if(prediction[0][0]>0.5):\n",
    " print(\"Mango\")\n",
    "else:\n",
    " print(\"Grapes\")\n",
    "print(\"If the results are not accurate, try uploading a clearer image\")"
   ]
  }
 ],
 "metadata": {
  "kernelspec": {
   "display_name": ".venv",
   "language": "python",
   "name": "python3"
  },
  "language_info": {
   "codemirror_mode": {
    "name": "ipython",
    "version": 3
   },
   "file_extension": ".py",
   "mimetype": "text/x-python",
   "name": "python",
   "nbconvert_exporter": "python",
   "pygments_lexer": "ipython3",
   "version": "3.11.1"
  },
  "orig_nbformat": 4
 },
 "nbformat": 4,
 "nbformat_minor": 2
}
